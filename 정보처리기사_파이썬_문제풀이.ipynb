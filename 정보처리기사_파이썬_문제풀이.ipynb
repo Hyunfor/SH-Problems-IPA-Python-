{
  "nbformat": 4,
  "nbformat_minor": 0,
  "metadata": {
    "colab": {
      "provenance": [],
      "authorship_tag": "ABX9TyONSuQHk8SOqC+v8/7r3kvX",
      "include_colab_link": true
    },
    "kernelspec": {
      "name": "python3",
      "display_name": "Python 3"
    },
    "language_info": {
      "name": "python"
    }
  },
  "cells": [
    {
      "cell_type": "markdown",
      "metadata": {
        "id": "view-in-github",
        "colab_type": "text"
      },
      "source": [
        "<a href=\"https://colab.research.google.com/github/Hyunfor/SH-Problems-IPA-Python-/blob/master/%EC%A0%95%EB%B3%B4%EC%B2%98%EB%A6%AC%EA%B8%B0%EC%82%AC_%ED%8C%8C%EC%9D%B4%EC%8D%AC_%EB%AC%B8%EC%A0%9C%ED%92%80%EC%9D%B4.ipynb\" target=\"_parent\"><img src=\"https://colab.research.google.com/assets/colab-badge.svg\" alt=\"Open In Colab\"/></a>"
      ]
    },
    {
      "cell_type": "markdown",
      "source": [
        "노트북 업로드 테스트는 완료 되었으니 집에서 데스크톱으로 업로드 테스트"
      ],
      "metadata": {
        "id": "5qN7MfHRPc8B"
      }
    }
  ]
}