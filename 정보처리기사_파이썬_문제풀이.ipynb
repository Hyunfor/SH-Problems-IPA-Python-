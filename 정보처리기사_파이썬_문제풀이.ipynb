{
  "nbformat": 4,
  "nbformat_minor": 0,
  "metadata": {
    "colab": {
      "provenance": [],
      "authorship_tag": "ABX9TyOain2bQm6aoKVw6E/bQVmy",
      "include_colab_link": true
    },
    "kernelspec": {
      "name": "python3",
      "display_name": "Python 3"
    },
    "language_info": {
      "name": "python"
    }
  },
  "cells": [
    {
      "cell_type": "markdown",
      "metadata": {
        "id": "view-in-github",
        "colab_type": "text"
      },
      "source": [
        "<a href=\"https://colab.research.google.com/github/Hyunfor/SH-Problems-IPA-Python-/blob/master/%EC%A0%95%EB%B3%B4%EC%B2%98%EB%A6%AC%EA%B8%B0%EC%82%AC_%ED%8C%8C%EC%9D%B4%EC%8D%AC_%EB%AC%B8%EC%A0%9C%ED%92%80%EC%9D%B4.ipynb\" target=\"_parent\"><img src=\"https://colab.research.google.com/assets/colab-badge.svg\" alt=\"Open In Colab\"/></a>"
      ]
    },
    {
      "cell_type": "markdown",
      "source": [
        "노트북 업로드 테스트는 완료 되었으니 집에서 데스크톱으로 업로드 테스트"
      ],
      "metadata": {
        "id": "5qN7MfHRPc8B"
      }
    },
    {
      "cell_type": "code",
      "source": [
        "기출문제"
      ],
      "metadata": {
        "id": "PtgA2YbuvE4Q"
      },
      "execution_count": null,
      "outputs": []
    },
    {
      "cell_type": "code",
      "source": [
        "a={'일본','중국','한국'}\n",
        "a.add('베트남')\n",
        "a.add('중국')\n",
        "a.remove('일본')\n",
        "a.update(['홍콩','한국','태국'])\n",
        "print(a)"
      ],
      "metadata": {
        "colab": {
          "base_uri": "https://localhost:8080/"
        },
        "id": "QQAqI8KqviM7",
        "outputId": "c7e3b7f8-84bd-46d9-97b9-45260d424956"
      },
      "execution_count": 1,
      "outputs": [
        {
          "output_type": "stream",
          "name": "stdout",
          "text": [
            "{'한국', '태국', '중국', '베트남', '홍콩'}\n"
          ]
        }
      ]
    }
  ]
}