{
  "nbformat": 4,
  "nbformat_minor": 0,
  "metadata": {
    "colab": {
      "provenance": [],
      "authorship_tag": "ABX9TyPwxQZolA4+TcBLOeucG0GG",
      "include_colab_link": true
    },
    "kernelspec": {
      "name": "python3",
      "display_name": "Python 3"
    },
    "language_info": {
      "name": "python"
    }
  },
  "cells": [
    {
      "cell_type": "markdown",
      "metadata": {
        "id": "view-in-github",
        "colab_type": "text"
      },
      "source": [
        "<a href=\"https://colab.research.google.com/github/Hyunfor/SH-Problems-IPA-Python-/blob/master/%EC%A0%95%EB%B3%B4%EC%B2%98%EB%A6%AC%EA%B8%B0%EC%82%AC_%ED%8C%8C%EC%9D%B4%EC%8D%AC_%EB%AC%B8%EC%A0%9C%ED%92%80%EC%9D%B4.ipynb\" target=\"_parent\"><img src=\"https://colab.research.google.com/assets/colab-badge.svg\" alt=\"Open In Colab\"/></a>"
      ]
    },
    {
      "cell_type": "markdown",
      "source": [
        "노트북 , 데스크톱 둘다 업로드 테스트 완료"
      ],
      "metadata": {
        "id": "5qN7MfHRPc8B"
      }
    },
    {
      "cell_type": "code",
      "source": [
        "기출문제 풀이"
      ],
      "metadata": {
        "id": "PtgA2YbuvE4Q"
      },
      "execution_count": null,
      "outputs": []
    },
    {
      "cell_type": "code",
      "source": [
        "a={'일본','중국','한국'}\n",
        "a.add('베트남')\n",
        "a.add('중국')\n",
        "a.remove('일본')\n",
        "a.update(['홍콩','한국','태국'])\n",
        "print(a)\n",
        "\n",
        "b={'달러','원화','유로', '엔화', '위안'}\n",
        "b.add('파운드')\n",
        "b.remove('위안')\n",
        "b.update(['달러','유로','원화'])\n",
        "print(b)"
      ],
      "metadata": {
        "colab": {
          "base_uri": "https://localhost:8080/"
        },
        "id": "QQAqI8KqviM7",
        "outputId": "5c58d44c-f4d4-464e-c6b2-8794a1311355"
      },
      "execution_count": null,
      "outputs": [
        {
          "output_type": "stream",
          "name": "stdout",
          "text": [
            "{'중국', '태국', '베트남', '홍콩', '한국'}\n",
            "{'파운드', '달러', '유로', '원화', '엔화'}\n"
          ]
        }
      ]
    },
    {
      "cell_type": "code",
      "source": [
        "def exam(num1, num2=2):\n",
        "  print('a=', num1, 'b=', num2)\n",
        "\n",
        "exam(20)"
      ],
      "metadata": {
        "id": "8akgCN1eUH4m",
        "outputId": "d2266ac8-0e20-43da-add3-019c8dfd17b3",
        "colab": {
          "base_uri": "https://localhost:8080/"
        }
      },
      "execution_count": null,
      "outputs": [
        {
          "output_type": "stream",
          "name": "stdout",
          "text": [
            "a= 20 b= 2\n"
          ]
        }
      ]
    },
    {
      "cell_type": "code",
      "source": [
        "x = 20\n",
        "if x == 10:\n",
        "    print('10')\n",
        "elif x == 20:\n",
        "    print('20')\n",
        "else :\n",
        "    print('orther')"
      ],
      "metadata": {
        "colab": {
          "base_uri": "https://localhost:8080/"
        },
        "id": "NMJL3cJc8wql",
        "outputId": "90e5ea9d-1f90-46fc-97e2-1d345129e050"
      },
      "execution_count": null,
      "outputs": [
        {
          "output_type": "stream",
          "name": "stdout",
          "text": [
            "20\n"
          ]
        }
      ]
    },
    {
      "cell_type": "code",
      "source": [
        "a = 100\n",
        "list_data = ['a', 'b', 'c']\n",
        "dict_data = {'a':90, 'b':95}\n",
        "print(list_data[0])\n",
        "print(dict_data['a'])"
      ],
      "metadata": {
        "colab": {
          "base_uri": "https://localhost:8080/"
        },
        "id": "FEUbkusO-cCg",
        "outputId": "1409d0e0-0d44-4433-992b-273d24f98d6d"
      },
      "execution_count": null,
      "outputs": [
        {
          "output_type": "stream",
          "name": "stdout",
          "text": [
            "a\n",
            "90\n"
          ]
        }
      ]
    },
    {
      "cell_type": "markdown",
      "source": [
        "FourCal 클래스는 아무 변수나 함수도 포함하지 않지만, 우리가 원하는 객체 a를 만들 수 있는 기능은 가지고 있다."
      ],
      "metadata": {
        "id": "H8s3ZlY-HZtK"
      }
    },
    {
      "cell_type": "code",
      "source": [
        "class FourCal:\n",
        "    def setdata(sel, fir, sec):\n",
        "        sel.fir = fir\n",
        "        sel.sec = sec\n",
        "    def add(sel):\n",
        "        result = sel.fir + sel.sec\n",
        "        return result\n",
        "a = FourCal()\n",
        "a.setdata(4 , 2)\n",
        "print(a.add())"
      ],
      "metadata": {
        "colab": {
          "base_uri": "https://localhost:8080/"
        },
        "id": "O3hrVboVygXi",
        "outputId": "bb7204bf-83e2-4e53-9249-8ef94f17be43"
      },
      "execution_count": null,
      "outputs": [
        {
          "output_type": "stream",
          "name": "stdout",
          "text": [
            "6\n"
          ]
        }
      ]
    },
    {
      "cell_type": "code",
      "source": [
        "def cs(n):\n",
        "    s = 0\n",
        "    for num in range(n+1):\n",
        "        s += num\n",
        "    return s\n",
        "\n",
        "print(cs(11))"
      ],
      "metadata": {
        "colab": {
          "base_uri": "https://localhost:8080/"
        },
        "id": "vWfKPNs3z_2F",
        "outputId": "911b5b4d-b49d-4b41-a57b-4babd0ced518"
      },
      "execution_count": 2,
      "outputs": [
        {
          "output_type": "stream",
          "name": "stdout",
          "text": [
            "66\n"
          ]
        }
      ]
    },
    {
      "cell_type": "code",
      "source": [
        "x = 20\n",
        "if x == 10:\n",
        "    print('10')\n",
        "elif x == 20:\n",
        "    print('20')\n",
        "else :\n",
        "    print('other')"
      ],
      "metadata": {
        "colab": {
          "base_uri": "https://localhost:8080/"
        },
        "id": "GpyCQFuoUF7s",
        "outputId": "c17b420e-1acf-4fa4-c10c-982c30b90f50"
      },
      "execution_count": 3,
      "outputs": [
        {
          "output_type": "stream",
          "name": "stdout",
          "text": [
            "20\n"
          ]
        }
      ]
    }
  ]
}